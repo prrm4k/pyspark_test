{
  "nbformat": 4,
  "nbformat_minor": 0,
  "metadata": {
    "colab": {
      "provenance": []
    },
    "kernelspec": {
      "name": "python3",
      "display_name": "Python 3"
    },
    "language_info": {
      "name": "python"
    }
  },
  "cells": [
    {
      "cell_type": "code",
      "source": [
        "!pip install pyspark"
      ],
      "metadata": {
        "colab": {
          "base_uri": "https://localhost:8080/"
        },
        "id": "-PlifyEsxx6-",
        "outputId": "6ac039b6-75ab-4554-e876-c6416136877e"
      },
      "execution_count": 1,
      "outputs": [
        {
          "output_type": "stream",
          "name": "stdout",
          "text": [
            "Collecting pyspark\n",
            "  Downloading pyspark-3.5.0.tar.gz (316.9 MB)\n",
            "\u001b[2K     \u001b[90m━━━━━━━━━━━━━━━━━━━━━━━━━━━━━━━━━━━━━━━━\u001b[0m \u001b[32m316.9/316.9 MB\u001b[0m \u001b[31m3.0 MB/s\u001b[0m eta \u001b[36m0:00:00\u001b[0m\n",
            "\u001b[?25h  Preparing metadata (setup.py) ... \u001b[?25l\u001b[?25hdone\n",
            "Requirement already satisfied: py4j==0.10.9.7 in /usr/local/lib/python3.10/dist-packages (from pyspark) (0.10.9.7)\n",
            "Building wheels for collected packages: pyspark\n",
            "  Building wheel for pyspark (setup.py) ... \u001b[?25l\u001b[?25hdone\n",
            "  Created wheel for pyspark: filename=pyspark-3.5.0-py2.py3-none-any.whl size=317425345 sha256=e6a7c443f9fafd21b5eca28715e79f0fdb8d9ada0abac20470fc5e0c1bd3e14d\n",
            "  Stored in directory: /root/.cache/pip/wheels/41/4e/10/c2cf2467f71c678cfc8a6b9ac9241e5e44a01940da8fbb17fc\n",
            "Successfully built pyspark\n",
            "Installing collected packages: pyspark\n",
            "Successfully installed pyspark-3.5.0\n"
          ]
        }
      ]
    },
    {
      "cell_type": "markdown",
      "source": [
        "# Pandas"
      ],
      "metadata": {
        "id": "hbYHbygYGsL6"
      }
    },
    {
      "cell_type": "code",
      "source": [
        "from pyspark.sql import SparkSession\n",
        "import pandas as pd\n",
        "from pyspark import *"
      ],
      "metadata": {
        "id": "od1yROHmxp4P"
      },
      "execution_count": 2,
      "outputs": []
    },
    {
      "cell_type": "code",
      "source": [
        "df_pd = pd.read_csv('https://raw.githubusercontent.com/bahdanparakevich/pyspark_tests/14688593773d42cf73525c35f6ce80834588bd65/raw_data/DataEngineer.csv')"
      ],
      "metadata": {
        "id": "wJL9Eq3cyV6L"
      },
      "execution_count": 3,
      "outputs": []
    },
    {
      "cell_type": "code",
      "source": [
        "df_pd.head()"
      ],
      "metadata": {
        "colab": {
          "base_uri": "https://localhost:8080/",
          "height": 345
        },
        "id": "VMihG4ZsKXuS",
        "outputId": "8c1245a9-8de4-4c59-f48a-7163dccd77ec"
      },
      "execution_count": 204,
      "outputs": [
        {
          "output_type": "execute_result",
          "data": {
            "text/plain": [
              "                                           Job Title  \\\n",
              "0                                      Data Engineer   \n",
              "1  Senior Data Engineer (Healthcare Domain experi...   \n",
              "2                                     Data Engineers   \n",
              "3                      Client Trade Support Engineer   \n",
              "4                                      Data Engineer   \n",
              "\n",
              "               Salary Estimate  \\\n",
              "0  $80K-$150K (Glassdoor est.)   \n",
              "1  $80K-$150K (Glassdoor est.)   \n",
              "2  $80K-$150K (Glassdoor est.)   \n",
              "3  $80K-$150K (Glassdoor est.)   \n",
              "4  $80K-$150K (Glassdoor est.)   \n",
              "\n",
              "                                     Job Description  Rating  \\\n",
              "0  Company Description\\nSagence is a management a...     4.5   \n",
              "1  Key Responsibilities\\n\\n- Architect, build, an...     3.4   \n",
              "2  Overview\\n\\nJob description\\n\\nPosition Overvi...     5.0   \n",
              "3  About the Position\\n\\n\\nThis position will sup...     4.8   \n",
              "4  Data Engineer\\n\\nJob Details\\nLevel\\nExperienc...     3.7   \n",
              "\n",
              "                   Company Name      Location      Headquarters  \\\n",
              "0                  Sagence\\n4.5  New York, NY       Chicago, IL   \n",
              "1   Enterprise Integration\\n3.4  New York, NY  Jacksonville, FL   \n",
              "2     Maestro Technologies\\n5.0  New York, NY       Trenton, NJ   \n",
              "3              Jane Street\\n4.8  New York, NY      New York, NY   \n",
              "4  GNY Insurance Companies\\n3.7  New York, NY      New York, NY   \n",
              "\n",
              "                    Size  Founded  Type of ownership  \\\n",
              "0      1 to 50 employees     2009  Company - Private   \n",
              "1    51 to 200 employees     1998  Company - Private   \n",
              "2    51 to 200 employees     2003  Company - Private   \n",
              "3  501 to 1000 employees     2000  Company - Private   \n",
              "4   201 to 500 employees     1914  Company - Private   \n",
              "\n",
              "                                Industry                  Sector  \\\n",
              "0                             Consulting       Business Services   \n",
              "1                            IT Services  Information Technology   \n",
              "2                            IT Services  Information Technology   \n",
              "3  Investment Banking & Asset Management                 Finance   \n",
              "4                     Insurance Carriers               Insurance   \n",
              "\n",
              "                      Revenue                       Competitors Easy Apply  \n",
              "0    $10 to $25 million (USD)               WCI Consulting, PwC         -1  \n",
              "1    $25 to $50 million (USD)                                -1         -1  \n",
              "2     $5 to $10 million (USD)                                -1         -1  \n",
              "3    Unknown / Non-Applicable                                -1         -1  \n",
              "4  $100 to $500 million (USD)  Travelers, Chubb, Crum & Forster       True  "
            ],
            "text/html": [
              "\n",
              "  <div id=\"df-3b85b561-0eae-41a0-b2d0-b5d3813afb41\" class=\"colab-df-container\">\n",
              "    <div>\n",
              "<style scoped>\n",
              "    .dataframe tbody tr th:only-of-type {\n",
              "        vertical-align: middle;\n",
              "    }\n",
              "\n",
              "    .dataframe tbody tr th {\n",
              "        vertical-align: top;\n",
              "    }\n",
              "\n",
              "    .dataframe thead th {\n",
              "        text-align: right;\n",
              "    }\n",
              "</style>\n",
              "<table border=\"1\" class=\"dataframe\">\n",
              "  <thead>\n",
              "    <tr style=\"text-align: right;\">\n",
              "      <th></th>\n",
              "      <th>Job Title</th>\n",
              "      <th>Salary Estimate</th>\n",
              "      <th>Job Description</th>\n",
              "      <th>Rating</th>\n",
              "      <th>Company Name</th>\n",
              "      <th>Location</th>\n",
              "      <th>Headquarters</th>\n",
              "      <th>Size</th>\n",
              "      <th>Founded</th>\n",
              "      <th>Type of ownership</th>\n",
              "      <th>Industry</th>\n",
              "      <th>Sector</th>\n",
              "      <th>Revenue</th>\n",
              "      <th>Competitors</th>\n",
              "      <th>Easy Apply</th>\n",
              "    </tr>\n",
              "  </thead>\n",
              "  <tbody>\n",
              "    <tr>\n",
              "      <th>0</th>\n",
              "      <td>Data Engineer</td>\n",
              "      <td>$80K-$150K (Glassdoor est.)</td>\n",
              "      <td>Company Description\\nSagence is a management a...</td>\n",
              "      <td>4.5</td>\n",
              "      <td>Sagence\\n4.5</td>\n",
              "      <td>New York, NY</td>\n",
              "      <td>Chicago, IL</td>\n",
              "      <td>1 to 50 employees</td>\n",
              "      <td>2009</td>\n",
              "      <td>Company - Private</td>\n",
              "      <td>Consulting</td>\n",
              "      <td>Business Services</td>\n",
              "      <td>$10 to $25 million (USD)</td>\n",
              "      <td>WCI Consulting, PwC</td>\n",
              "      <td>-1</td>\n",
              "    </tr>\n",
              "    <tr>\n",
              "      <th>1</th>\n",
              "      <td>Senior Data Engineer (Healthcare Domain experi...</td>\n",
              "      <td>$80K-$150K (Glassdoor est.)</td>\n",
              "      <td>Key Responsibilities\\n\\n- Architect, build, an...</td>\n",
              "      <td>3.4</td>\n",
              "      <td>Enterprise Integration\\n3.4</td>\n",
              "      <td>New York, NY</td>\n",
              "      <td>Jacksonville, FL</td>\n",
              "      <td>51 to 200 employees</td>\n",
              "      <td>1998</td>\n",
              "      <td>Company - Private</td>\n",
              "      <td>IT Services</td>\n",
              "      <td>Information Technology</td>\n",
              "      <td>$25 to $50 million (USD)</td>\n",
              "      <td>-1</td>\n",
              "      <td>-1</td>\n",
              "    </tr>\n",
              "    <tr>\n",
              "      <th>2</th>\n",
              "      <td>Data Engineers</td>\n",
              "      <td>$80K-$150K (Glassdoor est.)</td>\n",
              "      <td>Overview\\n\\nJob description\\n\\nPosition Overvi...</td>\n",
              "      <td>5.0</td>\n",
              "      <td>Maestro Technologies\\n5.0</td>\n",
              "      <td>New York, NY</td>\n",
              "      <td>Trenton, NJ</td>\n",
              "      <td>51 to 200 employees</td>\n",
              "      <td>2003</td>\n",
              "      <td>Company - Private</td>\n",
              "      <td>IT Services</td>\n",
              "      <td>Information Technology</td>\n",
              "      <td>$5 to $10 million (USD)</td>\n",
              "      <td>-1</td>\n",
              "      <td>-1</td>\n",
              "    </tr>\n",
              "    <tr>\n",
              "      <th>3</th>\n",
              "      <td>Client Trade Support Engineer</td>\n",
              "      <td>$80K-$150K (Glassdoor est.)</td>\n",
              "      <td>About the Position\\n\\n\\nThis position will sup...</td>\n",
              "      <td>4.8</td>\n",
              "      <td>Jane Street\\n4.8</td>\n",
              "      <td>New York, NY</td>\n",
              "      <td>New York, NY</td>\n",
              "      <td>501 to 1000 employees</td>\n",
              "      <td>2000</td>\n",
              "      <td>Company - Private</td>\n",
              "      <td>Investment Banking &amp; Asset Management</td>\n",
              "      <td>Finance</td>\n",
              "      <td>Unknown / Non-Applicable</td>\n",
              "      <td>-1</td>\n",
              "      <td>-1</td>\n",
              "    </tr>\n",
              "    <tr>\n",
              "      <th>4</th>\n",
              "      <td>Data Engineer</td>\n",
              "      <td>$80K-$150K (Glassdoor est.)</td>\n",
              "      <td>Data Engineer\\n\\nJob Details\\nLevel\\nExperienc...</td>\n",
              "      <td>3.7</td>\n",
              "      <td>GNY Insurance Companies\\n3.7</td>\n",
              "      <td>New York, NY</td>\n",
              "      <td>New York, NY</td>\n",
              "      <td>201 to 500 employees</td>\n",
              "      <td>1914</td>\n",
              "      <td>Company - Private</td>\n",
              "      <td>Insurance Carriers</td>\n",
              "      <td>Insurance</td>\n",
              "      <td>$100 to $500 million (USD)</td>\n",
              "      <td>Travelers, Chubb, Crum &amp; Forster</td>\n",
              "      <td>True</td>\n",
              "    </tr>\n",
              "  </tbody>\n",
              "</table>\n",
              "</div>\n",
              "    <div class=\"colab-df-buttons\">\n",
              "\n",
              "  <div class=\"colab-df-container\">\n",
              "    <button class=\"colab-df-convert\" onclick=\"convertToInteractive('df-3b85b561-0eae-41a0-b2d0-b5d3813afb41')\"\n",
              "            title=\"Convert this dataframe to an interactive table.\"\n",
              "            style=\"display:none;\">\n",
              "\n",
              "  <svg xmlns=\"http://www.w3.org/2000/svg\" height=\"24px\" viewBox=\"0 -960 960 960\">\n",
              "    <path d=\"M120-120v-720h720v720H120Zm60-500h600v-160H180v160Zm220 220h160v-160H400v160Zm0 220h160v-160H400v160ZM180-400h160v-160H180v160Zm440 0h160v-160H620v160ZM180-180h160v-160H180v160Zm440 0h160v-160H620v160Z\"/>\n",
              "  </svg>\n",
              "    </button>\n",
              "\n",
              "  <style>\n",
              "    .colab-df-container {\n",
              "      display:flex;\n",
              "      gap: 12px;\n",
              "    }\n",
              "\n",
              "    .colab-df-convert {\n",
              "      background-color: #E8F0FE;\n",
              "      border: none;\n",
              "      border-radius: 50%;\n",
              "      cursor: pointer;\n",
              "      display: none;\n",
              "      fill: #1967D2;\n",
              "      height: 32px;\n",
              "      padding: 0 0 0 0;\n",
              "      width: 32px;\n",
              "    }\n",
              "\n",
              "    .colab-df-convert:hover {\n",
              "      background-color: #E2EBFA;\n",
              "      box-shadow: 0px 1px 2px rgba(60, 64, 67, 0.3), 0px 1px 3px 1px rgba(60, 64, 67, 0.15);\n",
              "      fill: #174EA6;\n",
              "    }\n",
              "\n",
              "    .colab-df-buttons div {\n",
              "      margin-bottom: 4px;\n",
              "    }\n",
              "\n",
              "    [theme=dark] .colab-df-convert {\n",
              "      background-color: #3B4455;\n",
              "      fill: #D2E3FC;\n",
              "    }\n",
              "\n",
              "    [theme=dark] .colab-df-convert:hover {\n",
              "      background-color: #434B5C;\n",
              "      box-shadow: 0px 1px 3px 1px rgba(0, 0, 0, 0.15);\n",
              "      filter: drop-shadow(0px 1px 2px rgba(0, 0, 0, 0.3));\n",
              "      fill: #FFFFFF;\n",
              "    }\n",
              "  </style>\n",
              "\n",
              "    <script>\n",
              "      const buttonEl =\n",
              "        document.querySelector('#df-3b85b561-0eae-41a0-b2d0-b5d3813afb41 button.colab-df-convert');\n",
              "      buttonEl.style.display =\n",
              "        google.colab.kernel.accessAllowed ? 'block' : 'none';\n",
              "\n",
              "      async function convertToInteractive(key) {\n",
              "        const element = document.querySelector('#df-3b85b561-0eae-41a0-b2d0-b5d3813afb41');\n",
              "        const dataTable =\n",
              "          await google.colab.kernel.invokeFunction('convertToInteractive',\n",
              "                                                    [key], {});\n",
              "        if (!dataTable) return;\n",
              "\n",
              "        const docLinkHtml = 'Like what you see? Visit the ' +\n",
              "          '<a target=\"_blank\" href=https://colab.research.google.com/notebooks/data_table.ipynb>data table notebook</a>'\n",
              "          + ' to learn more about interactive tables.';\n",
              "        element.innerHTML = '';\n",
              "        dataTable['output_type'] = 'display_data';\n",
              "        await google.colab.output.renderOutput(dataTable, element);\n",
              "        const docLink = document.createElement('div');\n",
              "        docLink.innerHTML = docLinkHtml;\n",
              "        element.appendChild(docLink);\n",
              "      }\n",
              "    </script>\n",
              "  </div>\n",
              "\n",
              "\n",
              "<div id=\"df-52b8ffc7-f31d-464f-b14e-b071821e8575\">\n",
              "  <button class=\"colab-df-quickchart\" onclick=\"quickchart('df-52b8ffc7-f31d-464f-b14e-b071821e8575')\"\n",
              "            title=\"Suggest charts\"\n",
              "            style=\"display:none;\">\n",
              "\n",
              "<svg xmlns=\"http://www.w3.org/2000/svg\" height=\"24px\"viewBox=\"0 0 24 24\"\n",
              "     width=\"24px\">\n",
              "    <g>\n",
              "        <path d=\"M19 3H5c-1.1 0-2 .9-2 2v14c0 1.1.9 2 2 2h14c1.1 0 2-.9 2-2V5c0-1.1-.9-2-2-2zM9 17H7v-7h2v7zm4 0h-2V7h2v10zm4 0h-2v-4h2v4z\"/>\n",
              "    </g>\n",
              "</svg>\n",
              "  </button>\n",
              "\n",
              "<style>\n",
              "  .colab-df-quickchart {\n",
              "      --bg-color: #E8F0FE;\n",
              "      --fill-color: #1967D2;\n",
              "      --hover-bg-color: #E2EBFA;\n",
              "      --hover-fill-color: #174EA6;\n",
              "      --disabled-fill-color: #AAA;\n",
              "      --disabled-bg-color: #DDD;\n",
              "  }\n",
              "\n",
              "  [theme=dark] .colab-df-quickchart {\n",
              "      --bg-color: #3B4455;\n",
              "      --fill-color: #D2E3FC;\n",
              "      --hover-bg-color: #434B5C;\n",
              "      --hover-fill-color: #FFFFFF;\n",
              "      --disabled-bg-color: #3B4455;\n",
              "      --disabled-fill-color: #666;\n",
              "  }\n",
              "\n",
              "  .colab-df-quickchart {\n",
              "    background-color: var(--bg-color);\n",
              "    border: none;\n",
              "    border-radius: 50%;\n",
              "    cursor: pointer;\n",
              "    display: none;\n",
              "    fill: var(--fill-color);\n",
              "    height: 32px;\n",
              "    padding: 0;\n",
              "    width: 32px;\n",
              "  }\n",
              "\n",
              "  .colab-df-quickchart:hover {\n",
              "    background-color: var(--hover-bg-color);\n",
              "    box-shadow: 0 1px 2px rgba(60, 64, 67, 0.3), 0 1px 3px 1px rgba(60, 64, 67, 0.15);\n",
              "    fill: var(--button-hover-fill-color);\n",
              "  }\n",
              "\n",
              "  .colab-df-quickchart-complete:disabled,\n",
              "  .colab-df-quickchart-complete:disabled:hover {\n",
              "    background-color: var(--disabled-bg-color);\n",
              "    fill: var(--disabled-fill-color);\n",
              "    box-shadow: none;\n",
              "  }\n",
              "\n",
              "  .colab-df-spinner {\n",
              "    border: 2px solid var(--fill-color);\n",
              "    border-color: transparent;\n",
              "    border-bottom-color: var(--fill-color);\n",
              "    animation:\n",
              "      spin 1s steps(1) infinite;\n",
              "  }\n",
              "\n",
              "  @keyframes spin {\n",
              "    0% {\n",
              "      border-color: transparent;\n",
              "      border-bottom-color: var(--fill-color);\n",
              "      border-left-color: var(--fill-color);\n",
              "    }\n",
              "    20% {\n",
              "      border-color: transparent;\n",
              "      border-left-color: var(--fill-color);\n",
              "      border-top-color: var(--fill-color);\n",
              "    }\n",
              "    30% {\n",
              "      border-color: transparent;\n",
              "      border-left-color: var(--fill-color);\n",
              "      border-top-color: var(--fill-color);\n",
              "      border-right-color: var(--fill-color);\n",
              "    }\n",
              "    40% {\n",
              "      border-color: transparent;\n",
              "      border-right-color: var(--fill-color);\n",
              "      border-top-color: var(--fill-color);\n",
              "    }\n",
              "    60% {\n",
              "      border-color: transparent;\n",
              "      border-right-color: var(--fill-color);\n",
              "    }\n",
              "    80% {\n",
              "      border-color: transparent;\n",
              "      border-right-color: var(--fill-color);\n",
              "      border-bottom-color: var(--fill-color);\n",
              "    }\n",
              "    90% {\n",
              "      border-color: transparent;\n",
              "      border-bottom-color: var(--fill-color);\n",
              "    }\n",
              "  }\n",
              "</style>\n",
              "\n",
              "  <script>\n",
              "    async function quickchart(key) {\n",
              "      const quickchartButtonEl =\n",
              "        document.querySelector('#' + key + ' button');\n",
              "      quickchartButtonEl.disabled = true;  // To prevent multiple clicks.\n",
              "      quickchartButtonEl.classList.add('colab-df-spinner');\n",
              "      try {\n",
              "        const charts = await google.colab.kernel.invokeFunction(\n",
              "            'suggestCharts', [key], {});\n",
              "      } catch (error) {\n",
              "        console.error('Error during call to suggestCharts:', error);\n",
              "      }\n",
              "      quickchartButtonEl.classList.remove('colab-df-spinner');\n",
              "      quickchartButtonEl.classList.add('colab-df-quickchart-complete');\n",
              "    }\n",
              "    (() => {\n",
              "      let quickchartButtonEl =\n",
              "        document.querySelector('#df-52b8ffc7-f31d-464f-b14e-b071821e8575 button');\n",
              "      quickchartButtonEl.style.display =\n",
              "        google.colab.kernel.accessAllowed ? 'block' : 'none';\n",
              "    })();\n",
              "  </script>\n",
              "</div>\n",
              "    </div>\n",
              "  </div>\n"
            ]
          },
          "metadata": {},
          "execution_count": 204
        }
      ]
    },
    {
      "cell_type": "markdown",
      "source": [
        "Number of rows\n"
      ],
      "metadata": {
        "id": "9jpN2nN6JHh5"
      }
    },
    {
      "cell_type": "code",
      "source": [
        "df_pd.shape[0]"
      ],
      "metadata": {
        "colab": {
          "base_uri": "https://localhost:8080/"
        },
        "id": "6NoDwBszG-W5",
        "outputId": "910877f2-0841-476d-9211-d64839cd86d4"
      },
      "execution_count": 164,
      "outputs": [
        {
          "output_type": "execute_result",
          "data": {
            "text/plain": [
              "2528"
            ]
          },
          "metadata": {},
          "execution_count": 164
        }
      ]
    },
    {
      "cell_type": "markdown",
      "source": [
        "The oldest Company in the Dataframe\n"
      ],
      "metadata": {
        "id": "gyDbK3lOJJwP"
      }
    },
    {
      "cell_type": "code",
      "source": [
        "min(df_pd.Founded.loc[df_pd.Founded>0])"
      ],
      "metadata": {
        "colab": {
          "base_uri": "https://localhost:8080/"
        },
        "id": "_28vaqRJHYpK",
        "outputId": "264ed364-af1b-4a98-f0dd-9cff38e7b80e"
      },
      "execution_count": 167,
      "outputs": [
        {
          "output_type": "execute_result",
          "data": {
            "text/plain": [
              "1625"
            ]
          },
          "metadata": {},
          "execution_count": 167
        }
      ]
    },
    {
      "cell_type": "markdown",
      "source": [
        "The newest company in the Dataframe\n"
      ],
      "metadata": {
        "id": "gBH_foouJNhK"
      }
    },
    {
      "cell_type": "code",
      "source": [
        "max(df_pd.Founded)"
      ],
      "metadata": {
        "colab": {
          "base_uri": "https://localhost:8080/"
        },
        "id": "FDuzG_T4HmQb",
        "outputId": "ca2aa697-0210-416c-93df-f4161b3f55a2"
      },
      "execution_count": 168,
      "outputs": [
        {
          "output_type": "execute_result",
          "data": {
            "text/plain": [
              "2020"
            ]
          },
          "metadata": {},
          "execution_count": 168
        }
      ]
    },
    {
      "cell_type": "markdown",
      "source": [
        "Number of vacancies in NY"
      ],
      "metadata": {
        "id": "fhepDQ1HJTk8"
      }
    },
    {
      "cell_type": "code",
      "source": [
        "df_pd.loc[df_pd.Location=='New York, NY'].shape[0]"
      ],
      "metadata": {
        "colab": {
          "base_uri": "https://localhost:8080/"
        },
        "id": "Otnp9X9wHq-B",
        "outputId": "3986e853-461e-4326-afff-d399f113011c"
      },
      "execution_count": 170,
      "outputs": [
        {
          "output_type": "execute_result",
          "data": {
            "text/plain": [
              "187"
            ]
          },
          "metadata": {},
          "execution_count": 170
        }
      ]
    },
    {
      "cell_type": "markdown",
      "source": [
        "Number of sectors"
      ],
      "metadata": {
        "id": "OiATx6zpJWi2"
      }
    },
    {
      "cell_type": "code",
      "source": [
        "df_pd.Sector.nunique()"
      ],
      "metadata": {
        "colab": {
          "base_uri": "https://localhost:8080/"
        },
        "id": "RghAFwFJH24t",
        "outputId": "f1549f7e-04b4-4fca-985c-27ab6e56469c"
      },
      "execution_count": 171,
      "outputs": [
        {
          "output_type": "execute_result",
          "data": {
            "text/plain": [
              "25"
            ]
          },
          "metadata": {},
          "execution_count": 171
        }
      ]
    },
    {
      "cell_type": "markdown",
      "source": [
        "Number of companies with less then 200 employees"
      ],
      "metadata": {
        "id": "zWVf0EghJY8S"
      }
    },
    {
      "cell_type": "code",
      "source": [
        "df_pd.loc[(df_pd.Size=='1 to 50 employees') | (df_pd.Size=='51 to 200 employees')]['Company Name'].nunique()"
      ],
      "metadata": {
        "colab": {
          "base_uri": "https://localhost:8080/"
        },
        "id": "5ZFPwY42H-GF",
        "outputId": "105d8b45-ecb0-4f2d-99e3-a00fe1944cda"
      },
      "execution_count": 173,
      "outputs": [
        {
          "output_type": "execute_result",
          "data": {
            "text/plain": [
              "530"
            ]
          },
          "metadata": {},
          "execution_count": 173
        }
      ]
    },
    {
      "cell_type": "markdown",
      "source": [
        "Minimum of salary"
      ],
      "metadata": {
        "id": "z6-ro0cJJeLn"
      }
    },
    {
      "cell_type": "code",
      "source": [
        "min([int(str(i)[:-19].split('-')[0][1:-1]) for i in df_pd['Salary Estimate'].unique()])"
      ],
      "metadata": {
        "colab": {
          "base_uri": "https://localhost:8080/"
        },
        "id": "9WNa4OXlIKBE",
        "outputId": "f23b1601-1d06-48de-99c2-6cf7719335c1"
      },
      "execution_count": 190,
      "outputs": [
        {
          "output_type": "execute_result",
          "data": {
            "text/plain": [
              "27"
            ]
          },
          "metadata": {},
          "execution_count": 190
        }
      ]
    },
    {
      "cell_type": "markdown",
      "source": [
        "Maximum of salary"
      ],
      "metadata": {
        "id": "0kKwtc27Ksjt"
      }
    },
    {
      "cell_type": "code",
      "source": [
        "max([int(str(i).split('-')[1][:-17][1:-1]) for i in df_pd['Salary Estimate'].unique()])"
      ],
      "metadata": {
        "colab": {
          "base_uri": "https://localhost:8080/"
        },
        "id": "og6YhTXiKPnv",
        "outputId": "f421f0af-e6cf-429f-853f-62e841ce382a"
      },
      "execution_count": 211,
      "outputs": [
        {
          "output_type": "execute_result",
          "data": {
            "text/plain": [
              "281"
            ]
          },
          "metadata": {},
          "execution_count": 211
        }
      ]
    },
    {
      "cell_type": "markdown",
      "source": [
        "# PySpark"
      ],
      "metadata": {
        "id": "oKVH4Qu3GpSA"
      }
    },
    {
      "cell_type": "code",
      "source": [
        "from pyspark.sql.functions import count_distinct"
      ],
      "metadata": {
        "id": "6wEMdwlFqO-C"
      },
      "execution_count": 40,
      "outputs": []
    },
    {
      "cell_type": "code",
      "source": [
        "from pyspark.sql import SparkSession\n",
        "\n",
        "spark = SparkSession.builder.getOrCreate()\n",
        "\n",
        "df = spark.read.option(\"delimiter\", \",\").option(\"quote\", \"\\\"\").option(\"multiLine\", True).option(\"escape\", \"\\\"\").csv(\"/content/DataEngineer (1).csv\", header=True, inferSchema=True)\n",
        "\n",
        "df.show()"
      ],
      "metadata": {
        "colab": {
          "base_uri": "https://localhost:8080/"
        },
        "id": "-kbwcwsR_EiW",
        "outputId": "7868e303-b9fd-4712-a534-b726efbab608"
      },
      "execution_count": 158,
      "outputs": [
        {
          "output_type": "stream",
          "name": "stdout",
          "text": [
            "+--------------------+--------------------+--------------------+------+--------------------+---------------+--------------------+--------------------+-------+-----------------+--------------------+--------------------+--------------------+--------------------+----------+\n",
            "|           Job Title|     Salary Estimate|     Job Description|Rating|        Company Name|       Location|        Headquarters|                Size|Founded|Type of ownership|            Industry|              Sector|             Revenue|         Competitors|Easy Apply|\n",
            "+--------------------+--------------------+--------------------+------+--------------------+---------------+--------------------+--------------------+-------+-----------------+--------------------+--------------------+--------------------+--------------------+----------+\n",
            "|       Data Engineer|$80K-$150K (Glass...|Company Descripti...|   4.5|        Sagence\\n4.5|   New York, NY|         Chicago, IL|   1 to 50 employees|   2009|Company - Private|          Consulting|   Business Services|$10 to $25 millio...| WCI Consulting, PwC|        -1|\n",
            "|Senior Data Engin...|$80K-$150K (Glass...|Key Responsibilit...|   3.4|Enterprise Integr...|   New York, NY|    Jacksonville, FL| 51 to 200 employees|   1998|Company - Private|         IT Services|Information Techn...|$25 to $50 millio...|                  -1|        -1|\n",
            "|      Data Engineers|$80K-$150K (Glass...|Overview\\n\\nJob d...|   5.0|Maestro Technolog...|   New York, NY|         Trenton, NJ| 51 to 200 employees|   2003|Company - Private|         IT Services|Information Techn...|$5 to $10 million...|                  -1|        -1|\n",
            "|Client Trade Supp...|$80K-$150K (Glass...|About the Positio...|   4.8|    Jane Street\\n4.8|   New York, NY|        New York, NY|501 to 1000 emplo...|   2000|Company - Private|Investment Bankin...|             Finance|Unknown / Non-App...|                  -1|        -1|\n",
            "|       Data Engineer|$80K-$150K (Glass...|Data Engineer\\n\\n...|   3.7|GNY Insurance Com...|   New York, NY|        New York, NY|201 to 500 employees|   1914|Company - Private|  Insurance Carriers|           Insurance|$100 to $500 mill...|Travelers, Chubb,...|      True|\n",
            "| Operations Engineer|$80K-$150K (Glass...|Hi, we're Oscar. ...|   3.7|   Oscar Health\\n3.7|   New York, NY|        New York, NY|1001 to 5000 empl...|   2012|Company - Private|Insurance Agencie...|           Insurance|$2 to $5 billion ...|                  -1|      True|\n",
            "|Senior Data Engineer|$80K-$150K (Glass...|Senior Data Engin...|   3.0|Affinity Solution...|   New York, NY|        New York, NY| 51 to 200 employees|   1998|Company - Private|Advertising & Mar...|   Business Services|Unknown / Non-App...|Commerce Signals,...|      True|\n",
            "|       Data Engineer|$80K-$150K (Glass...|Our client is a l...|   4.2|NJF Global Holdin...|   New York, NY|London, United Ki...| 51 to 200 employees|   2003|Company - Private|Staffing & Outsou...|   Business Services|$10 to $25 millio...|                  -1|      True|\n",
            "|Data Research Dev...|$80K-$150K (Glass...|About Us\\n\\nTeza ...|   4.3|Teza Technologies...|   New York, NY|         Chicago, IL| 51 to 200 employees|   2009|Company - Private|Financial Analyti...|             Finance|Unknown / Non-App...|                  -1|        -1|\n",
            "|Data Engineer (Py...|$80K-$150K (Glass...|What we're lookin...|   4.4|      Conductor\\n4.4|   New York, NY|        New York, NY|201 to 500 employees|   2010|Company - Private|            Internet|Information Techn...|$25 to $50 millio...|Brightedge Techno...|      True|\n",
            "|Data Center Engineer|$80K-$150K (Glass...|About the Positio...|   4.8|    Jane Street\\n4.8|   New York, NY|        New York, NY|501 to 1000 emplo...|   2000|Company - Private|Investment Bankin...|             Finance|Unknown / Non-App...|                  -1|        -1|\n",
            "|Data Engineer - H...|$80K-$150K (Glass...|By applying for t...|   4.0|        Twitter\\n4.0|   New York, NY|   San Francisco, CA|1001 to 5000 empl...|   2006| Company - Public|            Internet|Information Techn...|$2 to $5 billion ...|Facebook, Google,...|        -1|\n",
            "|   Software Engineer|$80K-$150K (Glass...|Who we are...\\n\\n...|   3.9| Verra Mobility\\n3.9|Jersey City, NJ|            Mesa, AZ|501 to 1000 emplo...|   1987| Company - Public|Transportation Ma...|Transportation & ...|Unknown / Non-App...|                  -1|        -1|\n",
            "|  Senior BI Engineer|$80K-$150K (Glass...|The Senior BI Eng...|   3.9|     7Park Data\\n3.9|   New York, NY|        New York, NY| 51 to 200 employees|   2012|Company - Private|Research & Develo...|   Business Services|Unknown / Non-App...|                  -1|        -1|\n",
            "|Principal Softwar...|$80K-$150K (Glass...|At Veeva, we buil...|   3.5|  Veeva Systems\\n3.5|   New York, NY|      Pleasanton, CA|1001 to 5000 empl...|   2007| Company - Public|Enterprise Softwa...|Information Techn...|$500 million to $...|                  -1|        -1|\n",
            "|       Data Engineer|$80K-$150K (Glass...|Job Description\\n...|   3.8|        Citadel\\n3.8|   New York, NY|         Chicago, IL|1001 to 5000 empl...|   1990|Company - Private|                  -1|                  -1|$50 to $100 milli...|Soros Fund Manage...|        -1|\n",
            "|       Data Engineer|$80K-$150K (Glass...|PulsePoint Data E...|   4.4|     PulsePoint\\n4.4|   New York, NY|        New York, NY| 51 to 200 employees|   2011|Company - Private|            Internet|Information Techn...|$100 to $500 mill...|Crossix Solutions...|        -1|\n",
            "|Service Engineer ...|$80K-$150K (Glass...|Company Profile\\n...|   3.0|CEF Solutions Inc...| Hackensack, NJ|        Fort Lee, NJ|   1 to 50 employees|     -1| Company - Public|                  -1|                  -1|Unknown / Non-App...|                  -1|        -1|\n",
            "|Software Engineer...|$80K-$150K (Glass...|AddThis Sharing B...|   5.0|      OpenSlate\\n5.0|   New York, NY|        New York, NY| 51 to 200 employees|   2012|Company - Private|          Publishing|               Media|Unknown / Non-App...|                  -1|        -1|\n",
            "|Data Scientist/ML...|$80K-$150K (Glass...|Data Scientist/ML...|   3.3|  PA Consulting\\n3.3|   New York, NY|London, United Ki...|1001 to 5000 empl...|   1943|Company - Private|          Consulting|   Business Services|$100 to $500 mill...|McKinsey & Compan...|        -1|\n",
            "+--------------------+--------------------+--------------------+------+--------------------+---------------+--------------------+--------------------+-------+-----------------+--------------------+--------------------+--------------------+--------------------+----------+\n",
            "only showing top 20 rows\n",
            "\n"
          ]
        }
      ]
    },
    {
      "cell_type": "code",
      "source": [
        "df.schema"
      ],
      "metadata": {
        "colab": {
          "base_uri": "https://localhost:8080/"
        },
        "id": "iOoT3VJWAQ96",
        "outputId": "adb00a76-4678-4960-d3fe-5a1bd079d257"
      },
      "execution_count": 103,
      "outputs": [
        {
          "output_type": "execute_result",
          "data": {
            "text/plain": [
              "StructType([StructField('Job Title', StringType(), True), StructField('Salary Estimate', StringType(), True), StructField('Job Description', StringType(), True), StructField('Rating', DoubleType(), True), StructField('Company Name', StringType(), True), StructField('Location', StringType(), True), StructField('Headquarters', StringType(), True), StructField('Size', StringType(), True), StructField('Founded', IntegerType(), True), StructField('Type of ownership', StringType(), True), StructField('Industry', StringType(), True), StructField('Sector', StringType(), True), StructField('Revenue', StringType(), True), StructField('Competitors', StringType(), True), StructField('Easy Apply', StringType(), True)])"
            ]
          },
          "metadata": {},
          "execution_count": 103
        }
      ]
    },
    {
      "cell_type": "markdown",
      "source": [
        "Number of rows\n"
      ],
      "metadata": {
        "id": "GNHEigUNJ9oD"
      }
    },
    {
      "cell_type": "code",
      "source": [
        "df.count()"
      ],
      "metadata": {
        "colab": {
          "base_uri": "https://localhost:8080/"
        },
        "id": "fK_8crgnGvDP",
        "outputId": "96318aaf-28d5-4929-c844-1c46c3fd330c"
      },
      "execution_count": 163,
      "outputs": [
        {
          "output_type": "execute_result",
          "data": {
            "text/plain": [
              "2528"
            ]
          },
          "metadata": {},
          "execution_count": 163
        }
      ]
    },
    {
      "cell_type": "markdown",
      "source": [
        "The oldest Company in the Dataframe\n"
      ],
      "metadata": {
        "id": "DiwR8U88J9oE"
      }
    },
    {
      "cell_type": "code",
      "source": [
        "df.filter(df.Founded>0).agg(F.min('Founded')).collect()[0][0]"
      ],
      "metadata": {
        "colab": {
          "base_uri": "https://localhost:8080/"
        },
        "id": "yLpFD4RTAI4a",
        "outputId": "db0a0f77-ead4-488b-f92a-7cfa456c5b02"
      },
      "execution_count": 104,
      "outputs": [
        {
          "output_type": "execute_result",
          "data": {
            "text/plain": [
              "1625"
            ]
          },
          "metadata": {},
          "execution_count": 104
        }
      ]
    },
    {
      "cell_type": "markdown",
      "source": [
        "The newest company in the Dataframe\n"
      ],
      "metadata": {
        "id": "MS3YW4FoJ9oE"
      }
    },
    {
      "cell_type": "code",
      "source": [
        "df.filter(df.Founded>0).agg(F.max('Founded')).collect()[0][0]"
      ],
      "metadata": {
        "colab": {
          "base_uri": "https://localhost:8080/"
        },
        "id": "QVbbUzBzAgLn",
        "outputId": "7c84e2b7-40fb-4505-cf7b-33ca0ea85d85"
      },
      "execution_count": 105,
      "outputs": [
        {
          "output_type": "execute_result",
          "data": {
            "text/plain": [
              "2020"
            ]
          },
          "metadata": {},
          "execution_count": 105
        }
      ]
    },
    {
      "cell_type": "markdown",
      "source": [
        "Number of vacancies in NY"
      ],
      "metadata": {
        "id": "JMyrsQ7IJ9oF"
      }
    },
    {
      "cell_type": "code",
      "source": [
        "df.filter(df.Location=='New York, NY').count()"
      ],
      "metadata": {
        "colab": {
          "base_uri": "https://localhost:8080/"
        },
        "id": "ifMoHUCeAjwp",
        "outputId": "5ca59513-f5aa-4d5c-cd1b-db5c99d6ce10"
      },
      "execution_count": 107,
      "outputs": [
        {
          "output_type": "execute_result",
          "data": {
            "text/plain": [
              "187"
            ]
          },
          "metadata": {},
          "execution_count": 107
        }
      ]
    },
    {
      "cell_type": "markdown",
      "source": [
        "Number of sectors"
      ],
      "metadata": {
        "id": "evWlPc7fJ9oF"
      }
    },
    {
      "cell_type": "code",
      "source": [
        "df.select('Sector').distinct().count()"
      ],
      "metadata": {
        "colab": {
          "base_uri": "https://localhost:8080/"
        },
        "id": "n1jjjnBdA9LT",
        "outputId": "d143c769-cdac-4e2b-b8eb-6d57583c4373"
      },
      "execution_count": 119,
      "outputs": [
        {
          "output_type": "execute_result",
          "data": {
            "text/plain": [
              "25"
            ]
          },
          "metadata": {},
          "execution_count": 119
        }
      ]
    },
    {
      "cell_type": "code",
      "source": [
        "df.select(count_distinct(df.Sector)).show()"
      ],
      "metadata": {
        "colab": {
          "base_uri": "https://localhost:8080/"
        },
        "id": "zyYGWrX_Be0H",
        "outputId": "f120443d-c0d2-486e-ebba-b9c12daa4b02"
      },
      "execution_count": 117,
      "outputs": [
        {
          "output_type": "stream",
          "name": "stdout",
          "text": [
            "+----------------------+\n",
            "|count(DISTINCT Sector)|\n",
            "+----------------------+\n",
            "|                    25|\n",
            "+----------------------+\n",
            "\n"
          ]
        }
      ]
    },
    {
      "cell_type": "markdown",
      "source": [
        "Number of companies with less then 200 employees"
      ],
      "metadata": {
        "id": "o4dku0bSJ9oF"
      }
    },
    {
      "cell_type": "code",
      "source": [
        "df.filter((df.Size=='1 to 50 employees') | (df.Size=='51 to 200 employees')).select('Company Name').distinct().count()"
      ],
      "metadata": {
        "colab": {
          "base_uri": "https://localhost:8080/"
        },
        "id": "OpU1jUvCDAOG",
        "outputId": "c560d12f-f01f-4f7e-9127-899ab61fac83"
      },
      "execution_count": 123,
      "outputs": [
        {
          "output_type": "execute_result",
          "data": {
            "text/plain": [
              "530"
            ]
          },
          "metadata": {},
          "execution_count": 123
        }
      ]
    },
    {
      "cell_type": "markdown",
      "source": [
        "Minimum of salary"
      ],
      "metadata": {
        "id": "ggsC5kQLJ9oF"
      }
    },
    {
      "cell_type": "code",
      "source": [
        "min([int(str(i)[21:-19].split('-')[0][1:-1]) for i in df.select('Salary Estimate').distinct().collect()])"
      ],
      "metadata": {
        "colab": {
          "base_uri": "https://localhost:8080/"
        },
        "id": "-aCeOCdXFhZv",
        "outputId": "eac74286-3e70-494e-d99f-cfc6b69fa247"
      },
      "execution_count": 153,
      "outputs": [
        {
          "output_type": "execute_result",
          "data": {
            "text/plain": [
              "27"
            ]
          },
          "metadata": {},
          "execution_count": 153
        }
      ]
    },
    {
      "cell_type": "markdown",
      "source": [
        "Maximum of salary"
      ],
      "metadata": {
        "id": "ZikNXe5MKI27"
      }
    },
    {
      "cell_type": "code",
      "source": [
        "max([int(str(i)[21:-19].split('-')[1][1:-1]) for i in df.select('Salary Estimate').distinct().collect()])"
      ],
      "metadata": {
        "colab": {
          "base_uri": "https://localhost:8080/"
        },
        "id": "j3HXS2ZJF2X8",
        "outputId": "eb35bbe7-103f-4294-c411-b65b1f458c5d"
      },
      "execution_count": 196,
      "outputs": [
        {
          "output_type": "execute_result",
          "data": {
            "text/plain": [
              "281"
            ]
          },
          "metadata": {},
          "execution_count": 196
        }
      ]
    }
  ]
}